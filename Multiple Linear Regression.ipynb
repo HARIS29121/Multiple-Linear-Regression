{
 "cells": [
  {
   "cell_type": "markdown",
   "id": "51e3e84b",
   "metadata": {},
   "source": [
    " ##   <center> Multiple Linear Regression"
   ]
  },
  {
   "cell_type": "markdown",
   "id": "98116f3d",
   "metadata": {},
   "source": [
    "The dataset contains 9568 data points collected from a Combined Cycle Power Plant over 6 years (2006-2011), when the power plant was set to work with full load. Features consist of hourly average ambient variables Temperature (T), Ambient Pressure (AP), Relative Humidity (RH) and Exhaust Vacuum (V) to predict the net hourly electrical energy output (EP) of the plant.The dataset is downloaded from UCI Machine Learning Repository. "
   ]
  },
  {
   "cell_type": "markdown",
   "id": "1b49fce0",
   "metadata": {},
   "source": [
    "Dataset: https://archive.ics.uci.edu/ml/datasets/combined+cycle+power+plant"
   ]
  },
  {
   "cell_type": "markdown",
   "id": "9d686198",
   "metadata": {},
   "source": [
    "## Attribute Information:\n",
    "\n",
    "Features consist of hourly average ambient variables\n",
    "- Temperature (T) in the range 1.81°C and 37.11°C,\n",
    "- Ambient Pressure (AP) in the range 992.89-1033.30 milibar,\n",
    "- Relative Humidity (RH) in the range 25.56% to 100.16%\n",
    "- Exhaust Vacuum (V) in teh range 25.36-81.56 cm Hg\n",
    "- Net hourly electrical energy output (EP) 420.26-495.76 MW\n",
    "\n",
    "The averages are taken from various sensors located around the plant that record the ambient variables every second. The variables are given without normalization."
   ]
  },
  {
   "cell_type": "markdown",
   "id": "d63314f4",
   "metadata": {},
   "source": [
    "## Import required Libraries"
   ]
  },
  {
   "cell_type": "code",
   "execution_count": 1,
   "id": "9b234b33",
   "metadata": {},
   "outputs": [],
   "source": [
    "import pandas as pd\n",
    "import numpy as np\n",
    "import matplotlib.pyplot as plt\n",
    "%matplotlib inline\n",
    "import seaborn as sns\n",
    "import warnings\n",
    "warnings.filterwarnings('ignore')"
   ]
  },
  {
   "cell_type": "markdown",
   "id": "2de6bd77",
   "metadata": {},
   "source": [
    "## Import dataset"
   ]
  },
  {
   "cell_type": "code",
   "execution_count": 7,
   "id": "5700ad30",
   "metadata": {},
   "outputs": [],
   "source": [
    "data_df=pd.read_csv('D:\\ML Projects\\Multiple Linear Regresion\\CCPP\\Folds5x2_pp.csv')"
   ]
  },
  {
   "cell_type": "code",
   "execution_count": 8,
   "id": "6ee907a8",
   "metadata": {},
   "outputs": [
    {
     "data": {
      "text/html": [
       "<div>\n",
       "<style scoped>\n",
       "    .dataframe tbody tr th:only-of-type {\n",
       "        vertical-align: middle;\n",
       "    }\n",
       "\n",
       "    .dataframe tbody tr th {\n",
       "        vertical-align: top;\n",
       "    }\n",
       "\n",
       "    .dataframe thead th {\n",
       "        text-align: right;\n",
       "    }\n",
       "</style>\n",
       "<table border=\"1\" class=\"dataframe\">\n",
       "  <thead>\n",
       "    <tr style=\"text-align: right;\">\n",
       "      <th></th>\n",
       "      <th>AT</th>\n",
       "      <th>V</th>\n",
       "      <th>AP</th>\n",
       "      <th>RH</th>\n",
       "      <th>PE</th>\n",
       "    </tr>\n",
       "  </thead>\n",
       "  <tbody>\n",
       "    <tr>\n",
       "      <th>0</th>\n",
       "      <td>14.96</td>\n",
       "      <td>41.76</td>\n",
       "      <td>1024.07</td>\n",
       "      <td>73.17</td>\n",
       "      <td>463.26</td>\n",
       "    </tr>\n",
       "    <tr>\n",
       "      <th>1</th>\n",
       "      <td>25.18</td>\n",
       "      <td>62.96</td>\n",
       "      <td>1020.04</td>\n",
       "      <td>59.08</td>\n",
       "      <td>444.37</td>\n",
       "    </tr>\n",
       "    <tr>\n",
       "      <th>2</th>\n",
       "      <td>5.11</td>\n",
       "      <td>39.40</td>\n",
       "      <td>1012.16</td>\n",
       "      <td>92.14</td>\n",
       "      <td>488.56</td>\n",
       "    </tr>\n",
       "    <tr>\n",
       "      <th>3</th>\n",
       "      <td>20.86</td>\n",
       "      <td>57.32</td>\n",
       "      <td>1010.24</td>\n",
       "      <td>76.64</td>\n",
       "      <td>446.48</td>\n",
       "    </tr>\n",
       "    <tr>\n",
       "      <th>4</th>\n",
       "      <td>10.82</td>\n",
       "      <td>37.50</td>\n",
       "      <td>1009.23</td>\n",
       "      <td>96.62</td>\n",
       "      <td>473.90</td>\n",
       "    </tr>\n",
       "  </tbody>\n",
       "</table>\n",
       "</div>"
      ],
      "text/plain": [
       "      AT      V       AP     RH      PE\n",
       "0  14.96  41.76  1024.07  73.17  463.26\n",
       "1  25.18  62.96  1020.04  59.08  444.37\n",
       "2   5.11  39.40  1012.16  92.14  488.56\n",
       "3  20.86  57.32  1010.24  76.64  446.48\n",
       "4  10.82  37.50  1009.23  96.62  473.90"
      ]
     },
     "execution_count": 8,
     "metadata": {},
     "output_type": "execute_result"
    }
   ],
   "source": [
    "data_df.head()"
   ]
  },
  {
   "cell_type": "markdown",
   "id": "00b1d874",
   "metadata": {},
   "source": [
    "## Define x and y"
   ]
  },
  {
   "cell_type": "code",
   "execution_count": 9,
   "id": "fec382b9",
   "metadata": {},
   "outputs": [],
   "source": [
    "x=data_df.drop('PE',axis=1)\n",
    "y=data_df['PE']"
   ]
  },
  {
   "cell_type": "code",
   "execution_count": 11,
   "id": "36d84258",
   "metadata": {},
   "outputs": [
    {
     "name": "stdout",
     "output_type": "stream",
     "text": [
      "         AT      V       AP     RH\n",
      "0     14.96  41.76  1024.07  73.17\n",
      "1     25.18  62.96  1020.04  59.08\n",
      "2      5.11  39.40  1012.16  92.14\n",
      "3     20.86  57.32  1010.24  76.64\n",
      "4     10.82  37.50  1009.23  96.62\n",
      "...     ...    ...      ...    ...\n",
      "9563  16.65  49.69  1014.01  91.00\n",
      "9564  13.19  39.18  1023.67  66.78\n",
      "9565  31.32  74.33  1012.92  36.48\n",
      "9566  24.48  69.45  1013.86  62.39\n",
      "9567  21.60  62.52  1017.23  67.87\n",
      "\n",
      "[9568 rows x 4 columns]\n"
     ]
    }
   ],
   "source": [
    "print(x)"
   ]
  },
  {
   "cell_type": "code",
   "execution_count": 14,
   "id": "29a57740",
   "metadata": {
    "scrolled": true
   },
   "outputs": [
    {
     "name": "stdout",
     "output_type": "stream",
     "text": [
      "0       463.26\n",
      "1       444.37\n",
      "2       488.56\n",
      "3       446.48\n",
      "4       473.90\n",
      "         ...  \n",
      "9563    460.03\n",
      "9564    469.62\n",
      "9565    429.57\n",
      "9566    435.74\n",
      "9567    453.28\n",
      "Name: PE, Length: 9568, dtype: float64\n"
     ]
    }
   ],
   "source": [
    "print(y)"
   ]
  },
  {
   "cell_type": "markdown",
   "id": "90791ec1",
   "metadata": {},
   "source": [
    "## Split the dataset into train set and test set"
   ]
  },
  {
   "cell_type": "code",
   "execution_count": 15,
   "id": "c3cdd3fc",
   "metadata": {},
   "outputs": [],
   "source": [
    "from sklearn.model_selection import train_test_split"
   ]
  },
  {
   "cell_type": "code",
   "execution_count": 16,
   "id": "cdaccd81",
   "metadata": {},
   "outputs": [],
   "source": [
    "x_train,x_test,y_train,y_test=train_test_split(x,y,test_size=0.30,random_state=0)"
   ]
  },
  {
   "cell_type": "markdown",
   "id": "8fbff0a5",
   "metadata": {},
   "source": [
    "## Create and train the model on train set"
   ]
  },
  {
   "cell_type": "code",
   "execution_count": 17,
   "id": "b3fa9749",
   "metadata": {},
   "outputs": [],
   "source": [
    "from sklearn.linear_model import LinearRegression"
   ]
  },
  {
   "cell_type": "code",
   "execution_count": 19,
   "id": "08d756bd",
   "metadata": {},
   "outputs": [],
   "source": [
    "lr=LinearRegression()"
   ]
  },
  {
   "cell_type": "code",
   "execution_count": 20,
   "id": "dbf6b69f",
   "metadata": {},
   "outputs": [
    {
     "data": {
      "text/plain": [
       "LinearRegression()"
      ]
     },
     "execution_count": 20,
     "metadata": {},
     "output_type": "execute_result"
    }
   ],
   "source": [
    "lr.fit(x_train,y_train)"
   ]
  },
  {
   "cell_type": "markdown",
   "id": "3c203f4e",
   "metadata": {},
   "source": [
    "## Predict the train set and test set results"
   ]
  },
  {
   "cell_type": "code",
   "execution_count": 21,
   "id": "57534018",
   "metadata": {},
   "outputs": [],
   "source": [
    "y_train_predict=lr.predict(x_train)\n",
    "y_test_predict=lr.predict(x_test)"
   ]
  },
  {
   "cell_type": "markdown",
   "id": "f214e286",
   "metadata": {},
   "source": [
    "## Evaluate the Model"
   ]
  },
  {
   "cell_type": "code",
   "execution_count": 23,
   "id": "6027c9db",
   "metadata": {},
   "outputs": [
    {
     "data": {
      "text/plain": [
       "0.9279441090358653"
      ]
     },
     "execution_count": 23,
     "metadata": {},
     "output_type": "execute_result"
    }
   ],
   "source": [
    "lr.score(x_train,y_train) # tain model score"
   ]
  },
  {
   "cell_type": "code",
   "execution_count": 24,
   "id": "31ca011b",
   "metadata": {
    "scrolled": false
   },
   "outputs": [
    {
     "data": {
      "text/plain": [
       "0.9304112159477682"
      ]
     },
     "execution_count": 24,
     "metadata": {},
     "output_type": "execute_result"
    }
   ],
   "source": [
    "lr.score(x_test,y_test) # test model score"
   ]
  },
  {
   "cell_type": "markdown",
   "id": "73a58de7",
   "metadata": {},
   "source": [
    "**Model score's for both train set and test set are almost similar. This shows that our model is a strong model**"
   ]
  },
  {
   "cell_type": "code",
   "execution_count": 25,
   "id": "dd99bd6c",
   "metadata": {},
   "outputs": [
    {
     "name": "stdout",
     "output_type": "stream",
     "text": [
      "The coefficient for AT is -1.9643209806499984\n",
      "The coefficient for V is -0.24009895157335465\n",
      "The coefficient for AP is 0.06801033592473658\n",
      "The coefficient for RH is -0.1564532923782331\n"
     ]
    }
   ],
   "source": [
    "for i,col_name in enumerate(x_train.columns):\n",
    "    print('The coefficient for {} is {}'.format(col_name,lr.coef_[i]))"
   ]
  },
  {
   "cell_type": "code",
   "execution_count": 26,
   "id": "efb9ce9e",
   "metadata": {},
   "outputs": [
    {
     "name": "stdout",
     "output_type": "stream",
     "text": [
      "The intercept for our model is 448.56131770568805\n"
     ]
    }
   ],
   "source": [
    "print('The intercept for our model is {}'.format(lr.intercept_))"
   ]
  },
  {
   "cell_type": "markdown",
   "id": "da7d1eca",
   "metadata": {},
   "source": [
    "## Plot the results"
   ]
  },
  {
   "cell_type": "code",
   "execution_count": 44,
   "id": "667fd647",
   "metadata": {},
   "outputs": [
    {
     "data": {
      "image/png": "[encoded data removed]",
      "text/plain": [
       "<Figure size 576x360 with 1 Axes>"
      ]
     },
     "metadata": {
      "needs_background": "light"
     },
     "output_type": "display_data"
    }
   ],
   "source": [
    "plt.figure(figsize=(8,5))\n",
    "plt.scatter(y_test,y_test_predict);\n",
    "plt.title('Actual Vs Predicted',weight='bold',y=1.01)\n",
    "plt.xlabel('Actual',weight='bold')\n",
    "plt.ylabel('Predicted',weight='bold')\n",
    "plt.show()"
   ]
  },
  {
   "cell_type": "markdown",
   "id": "cd69c46a",
   "metadata": {},
   "source": [
    "## Predicted values"
   ]
  },
  {
   "cell_type": "code",
   "execution_count": 52,
   "id": "43007401",
   "metadata": {},
   "outputs": [
    {
     "data": {
      "text/html": [
       "<div>\n",
       "<style scoped>\n",
       "    .dataframe tbody tr th:only-of-type {\n",
       "        vertical-align: middle;\n",
       "    }\n",
       "\n",
       "    .dataframe tbody tr th {\n",
       "        vertical-align: top;\n",
       "    }\n",
       "\n",
       "    .dataframe thead th {\n",
       "        text-align: right;\n",
       "    }\n",
       "</style>\n",
       "<table border=\"1\" class=\"dataframe\">\n",
       "  <thead>\n",
       "    <tr style=\"text-align: right;\">\n",
       "      <th></th>\n",
       "      <th>Actual</th>\n",
       "      <th>Predicted</th>\n",
       "      <th>Difference</th>\n",
       "    </tr>\n",
       "  </thead>\n",
       "  <tbody>\n",
       "    <tr>\n",
       "      <th>4834</th>\n",
       "      <td>431.23</td>\n",
       "      <td>431.402451</td>\n",
       "      <td>-0.172451</td>\n",
       "    </tr>\n",
       "    <tr>\n",
       "      <th>1768</th>\n",
       "      <td>460.01</td>\n",
       "      <td>458.614741</td>\n",
       "      <td>1.395259</td>\n",
       "    </tr>\n",
       "    <tr>\n",
       "      <th>2819</th>\n",
       "      <td>461.14</td>\n",
       "      <td>462.819674</td>\n",
       "      <td>-1.679674</td>\n",
       "    </tr>\n",
       "    <tr>\n",
       "      <th>7779</th>\n",
       "      <td>445.90</td>\n",
       "      <td>448.601237</td>\n",
       "      <td>-2.701237</td>\n",
       "    </tr>\n",
       "    <tr>\n",
       "      <th>7065</th>\n",
       "      <td>451.29</td>\n",
       "      <td>457.879479</td>\n",
       "      <td>-6.589479</td>\n",
       "    </tr>\n",
       "    <tr>\n",
       "      <th>9482</th>\n",
       "      <td>432.68</td>\n",
       "      <td>429.676856</td>\n",
       "      <td>3.003144</td>\n",
       "    </tr>\n",
       "    <tr>\n",
       "      <th>9</th>\n",
       "      <td>477.50</td>\n",
       "      <td>473.017115</td>\n",
       "      <td>4.482885</td>\n",
       "    </tr>\n",
       "    <tr>\n",
       "      <th>4986</th>\n",
       "      <td>459.68</td>\n",
       "      <td>456.532373</td>\n",
       "      <td>3.147627</td>\n",
       "    </tr>\n",
       "    <tr>\n",
       "      <th>6168</th>\n",
       "      <td>477.50</td>\n",
       "      <td>474.342524</td>\n",
       "      <td>3.157476</td>\n",
       "    </tr>\n",
       "    <tr>\n",
       "      <th>3664</th>\n",
       "      <td>444.99</td>\n",
       "      <td>446.364396</td>\n",
       "      <td>-1.374396</td>\n",
       "    </tr>\n",
       "    <tr>\n",
       "      <th>36</th>\n",
       "      <td>444.37</td>\n",
       "      <td>441.946411</td>\n",
       "      <td>2.423589</td>\n",
       "    </tr>\n",
       "    <tr>\n",
       "      <th>1109</th>\n",
       "      <td>437.04</td>\n",
       "      <td>441.452599</td>\n",
       "      <td>-4.412599</td>\n",
       "    </tr>\n",
       "    <tr>\n",
       "      <th>6662</th>\n",
       "      <td>442.34</td>\n",
       "      <td>444.746375</td>\n",
       "      <td>-2.406375</td>\n",
       "    </tr>\n",
       "    <tr>\n",
       "      <th>8603</th>\n",
       "      <td>440.74</td>\n",
       "      <td>440.874598</td>\n",
       "      <td>-0.134598</td>\n",
       "    </tr>\n",
       "    <tr>\n",
       "      <th>8363</th>\n",
       "      <td>436.55</td>\n",
       "      <td>438.374490</td>\n",
       "      <td>-1.824490</td>\n",
       "    </tr>\n",
       "    <tr>\n",
       "      <th>2201</th>\n",
       "      <td>460.24</td>\n",
       "      <td>454.370315</td>\n",
       "      <td>5.869685</td>\n",
       "    </tr>\n",
       "    <tr>\n",
       "      <th>9073</th>\n",
       "      <td>448.66</td>\n",
       "      <td>444.904201</td>\n",
       "      <td>3.755799</td>\n",
       "    </tr>\n",
       "    <tr>\n",
       "      <th>6455</th>\n",
       "      <td>432.94</td>\n",
       "      <td>437.370808</td>\n",
       "      <td>-4.430808</td>\n",
       "    </tr>\n",
       "    <tr>\n",
       "      <th>628</th>\n",
       "      <td>452.82</td>\n",
       "      <td>451.306760</td>\n",
       "      <td>1.513240</td>\n",
       "    </tr>\n",
       "    <tr>\n",
       "      <th>3779</th>\n",
       "      <td>432.20</td>\n",
       "      <td>427.453009</td>\n",
       "      <td>4.746991</td>\n",
       "    </tr>\n",
       "  </tbody>\n",
       "</table>\n",
       "</div>"
      ],
      "text/plain": [
       "      Actual   Predicted  Difference\n",
       "4834  431.23  431.402451   -0.172451\n",
       "1768  460.01  458.614741    1.395259\n",
       "2819  461.14  462.819674   -1.679674\n",
       "7779  445.90  448.601237   -2.701237\n",
       "7065  451.29  457.879479   -6.589479\n",
       "9482  432.68  429.676856    3.003144\n",
       "9     477.50  473.017115    4.482885\n",
       "4986  459.68  456.532373    3.147627\n",
       "6168  477.50  474.342524    3.157476\n",
       "3664  444.99  446.364396   -1.374396\n",
       "36    444.37  441.946411    2.423589\n",
       "1109  437.04  441.452599   -4.412599\n",
       "6662  442.34  444.746375   -2.406375\n",
       "8603  440.74  440.874598   -0.134598\n",
       "8363  436.55  438.374490   -1.824490\n",
       "2201  460.24  454.370315    5.869685\n",
       "9073  448.66  444.904201    3.755799\n",
       "6455  432.94  437.370808   -4.430808\n",
       "628   452.82  451.306760    1.513240\n",
       "3779  432.20  427.453009    4.746991"
      ]
     },
     "execution_count": 52,
     "metadata": {},
     "output_type": "execute_result"
    }
   ],
   "source": [
    "predicted_y_df=pd.DataFrame({'Actual':y_test,'Predicted':y_test_predict,'Difference':y_test-y_test_predict})\n",
    "predicted_y_df[0:20]"
   ]
  },
  {
   "cell_type": "markdown",
   "id": "88952214",
   "metadata": {},
   "source": [
    "## Using statmodel library to get R type outputs"
   ]
  },
  {
   "cell_type": "markdown",
   "id": "87a607d4",
   "metadata": {},
   "source": [
    "**The library expects the x and y to be given in one single dataframe**"
   ]
  },
  {
   "cell_type": "code",
   "execution_count": 53,
   "id": "fb180c89",
   "metadata": {},
   "outputs": [],
   "source": [
    "data_train=pd.concat([x_train,y_train],axis=1)"
   ]
  },
  {
   "cell_type": "code",
   "execution_count": 54,
   "id": "033e3fa5",
   "metadata": {},
   "outputs": [
    {
     "data": {
      "text/html": [
       "<div>\n",
       "<style scoped>\n",
       "    .dataframe tbody tr th:only-of-type {\n",
       "        vertical-align: middle;\n",
       "    }\n",
       "\n",
       "    .dataframe tbody tr th {\n",
       "        vertical-align: top;\n",
       "    }\n",
       "\n",
       "    .dataframe thead th {\n",
       "        text-align: right;\n",
       "    }\n",
       "</style>\n",
       "<table border=\"1\" class=\"dataframe\">\n",
       "  <thead>\n",
       "    <tr style=\"text-align: right;\">\n",
       "      <th></th>\n",
       "      <th>AT</th>\n",
       "      <th>V</th>\n",
       "      <th>AP</th>\n",
       "      <th>RH</th>\n",
       "      <th>PE</th>\n",
       "    </tr>\n",
       "  </thead>\n",
       "  <tbody>\n",
       "    <tr>\n",
       "      <th>4507</th>\n",
       "      <td>15.83</td>\n",
       "      <td>41.67</td>\n",
       "      <td>1013.39</td>\n",
       "      <td>74.12</td>\n",
       "      <td>464.93</td>\n",
       "    </tr>\n",
       "    <tr>\n",
       "      <th>287</th>\n",
       "      <td>22.56</td>\n",
       "      <td>62.26</td>\n",
       "      <td>1012.11</td>\n",
       "      <td>63.16</td>\n",
       "      <td>445.33</td>\n",
       "    </tr>\n",
       "    <tr>\n",
       "      <th>4018</th>\n",
       "      <td>22.11</td>\n",
       "      <td>59.80</td>\n",
       "      <td>1016.86</td>\n",
       "      <td>70.14</td>\n",
       "      <td>450.62</td>\n",
       "    </tr>\n",
       "    <tr>\n",
       "      <th>4624</th>\n",
       "      <td>19.96</td>\n",
       "      <td>56.03</td>\n",
       "      <td>1020.59</td>\n",
       "      <td>64.95</td>\n",
       "      <td>454.67</td>\n",
       "    </tr>\n",
       "    <tr>\n",
       "      <th>8507</th>\n",
       "      <td>21.70</td>\n",
       "      <td>70.32</td>\n",
       "      <td>1009.12</td>\n",
       "      <td>91.30</td>\n",
       "      <td>438.52</td>\n",
       "    </tr>\n",
       "  </tbody>\n",
       "</table>\n",
       "</div>"
      ],
      "text/plain": [
       "         AT      V       AP     RH      PE\n",
       "4507  15.83  41.67  1013.39  74.12  464.93\n",
       "287   22.56  62.26  1012.11  63.16  445.33\n",
       "4018  22.11  59.80  1016.86  70.14  450.62\n",
       "4624  19.96  56.03  1020.59  64.95  454.67\n",
       "8507  21.70  70.32  1009.12  91.30  438.52"
      ]
     },
     "execution_count": 54,
     "metadata": {},
     "output_type": "execute_result"
    }
   ],
   "source": [
    "data_train.head()"
   ]
  },
  {
   "cell_type": "code",
   "execution_count": 56,
   "id": "b26fe7c9",
   "metadata": {},
   "outputs": [],
   "source": [
    "import statsmodels.formula.api as smf"
   ]
  },
  {
   "cell_type": "code",
   "execution_count": 57,
   "id": "1d3258a1",
   "metadata": {},
   "outputs": [],
   "source": [
    "lm1=smf.ols(formula='PE ~ AT+V+AP+RH',data=data_train).fit()"
   ]
  },
  {
   "cell_type": "code",
   "execution_count": 58,
   "id": "984b61e2",
   "metadata": {},
   "outputs": [
    {
     "data": {
      "text/plain": [
       "Intercept    448.561318\n",
       "AT            -1.964321\n",
       "V             -0.240099\n",
       "AP             0.068010\n",
       "RH            -0.156453\n",
       "dtype: float64"
      ]
     },
     "execution_count": 58,
     "metadata": {},
     "output_type": "execute_result"
    }
   ],
   "source": [
    "lm1.params"
   ]
  },
  {
   "cell_type": "markdown",
   "id": "0d97f3b8",
   "metadata": {},
   "source": [
    "**We can observe that the results are exactly matching with the values driven using sklearn**"
   ]
  },
  {
   "cell_type": "markdown",
   "id": "08bdf5cc",
   "metadata": {},
   "source": [
    "## Inferential Statistics"
   ]
  },
  {
   "cell_type": "code",
   "execution_count": 59,
   "id": "9e1857c5",
   "metadata": {},
   "outputs": [
    {
     "name": "stdout",
     "output_type": "stream",
     "text": [
      "                            OLS Regression Results                            \n",
      "==============================================================================\n",
      "Dep. Variable:                     PE   R-squared:                       0.928\n",
      "Model:                            OLS   Adj. R-squared:                  0.928\n",
      "Method:                 Least Squares   F-statistic:                 2.155e+04\n",
      "Date:                Sun, 29 May 2022   Prob (F-statistic):               0.00\n",
      "Time:                        20:05:06   Log-Likelihood:                -19688.\n",
      "No. Observations:                6697   AIC:                         3.939e+04\n",
      "Df Residuals:                    6692   BIC:                         3.942e+04\n",
      "Df Model:                           4                                         \n",
      "Covariance Type:            nonrobust                                         \n",
      "==============================================================================\n",
      "                 coef    std err          t      P>|t|      [0.025      0.975]\n",
      "------------------------------------------------------------------------------\n",
      "Intercept    448.5613     11.745     38.192      0.000     425.537     471.585\n",
      "AT            -1.9643      0.018   -106.695      0.000      -2.000      -1.928\n",
      "V             -0.2401      0.009    -27.459      0.000      -0.257      -0.223\n",
      "AP             0.0680      0.011      5.968      0.000       0.046       0.090\n",
      "RH            -0.1565      0.005    -31.327      0.000      -0.166      -0.147\n",
      "==============================================================================\n",
      "Omnibus:                      808.731   Durbin-Watson:                   2.038\n",
      "Prob(Omnibus):                  0.000   Jarque-Bera (JB):             4369.490\n",
      "Skew:                          -0.454   Prob(JB):                         0.00\n",
      "Kurtosis:                       6.851   Cond. No.                     2.14e+05\n",
      "==============================================================================\n",
      "\n",
      "Notes:\n",
      "[1] Standard Errors assume that the covariance matrix of the errors is correctly specified.\n",
      "[2] The condition number is large, 2.14e+05. This might indicate that there are\n",
      "strong multicollinearity or other numerical problems.\n"
     ]
    }
   ],
   "source": [
    "print(lm1.summary())"
   ]
  },
  {
   "cell_type": "markdown",
   "id": "f7c27cfa",
   "metadata": {},
   "source": [
    "* R-squared metric is not reliable as it doesnot take into account spurious correlations\n",
    "* Adjusted R-squared metric accounts for the spurious correlations. It decreases when we include attributes into the model that are weak or poor predictors of y"
   ]
  },
  {
   "cell_type": "markdown",
   "id": "d6e2a92d",
   "metadata": {},
   "source": [
    "## <center>Thankyou"
   ]
  }
 ],
 "metadata": {
  "kernelspec": {
   "display_name": "Python 3 (ipykernel)",
   "language": "python",
   "name": "python3"
  },
  "language_info": {
   "codemirror_mode": {
    "name": "ipython",
    "version": 3
   },
   "file_extension": ".py",
   "mimetype": "text/x-python",
   "name": "python",
   "nbconvert_exporter": "python",
   "pygments_lexer": "ipython3",
   "version": "3.9.7"
  }
 },
 "nbformat": 4,
 "nbformat_minor": 5
}
